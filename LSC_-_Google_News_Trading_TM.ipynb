{
 "cells": [
  {
   "cell_type": "markdown",
   "id": "8fdfb402",
   "metadata": {},
   "source": [
    "## Import Libraries"
   ]
  },
  {
   "cell_type": "code",
   "execution_count": 144,
   "id": "9d2b36f5",
   "metadata": {},
   "outputs": [],
   "source": [
    "import pandas as pd\n",
    "import numpy as np\n",
    "import time\n",
    "\n",
    "# Import Sentiment Intensity Analyzer \n",
    "from vaderSentiment.vaderSentiment import SentimentIntensityAnalyzer\n",
    "\n",
    "from GoogleNews import GoogleNews\n",
    "googlenews = GoogleNews()"
   ]
  },
  {
   "cell_type": "code",
   "execution_count": 145,
   "id": "288e1b91",
   "metadata": {},
   "outputs": [],
   "source": [
    "#pip install vaderSentiment\n",
    "#pip install GoogleNews"
   ]
  },
  {
   "cell_type": "code",
   "execution_count": 146,
   "id": "38e5f8d5",
   "metadata": {},
   "outputs": [],
   "source": [
    "google_search_terms = ['Nvidia-Stock', 'Nvidia-Revenue', 'Nvidia-Sales', 'Nvidia', 'NVDA']\n",
    "googlenews.set_time_range('02/23/2013', '02/23/2023')\n",
    "#googlenews.set_time_range('12/01/2020', '03/10/2021')"
   ]
  },
  {
   "cell_type": "code",
   "execution_count": 147,
   "id": "c72d3db3",
   "metadata": {},
   "outputs": [],
   "source": [
    "# Create dataframe to capture google search results\n",
    "search_results_df = pd.DataFrame(columns=['Date of Article', 'Title', 'Articles', 'URL'])\n",
    "\n",
    "# Function to aggregate results from the Google News API\n",
    "def newsfeed1(search_results_df, google_search_results):\n",
    "    for i in range(len(google_search_results)-1):\n",
    "        if google_search_results is not None:\n",
    "            date_of_article = google_search_results[i]['datetime']\n",
    "            date_of_article = pd.to_datetime(date_of_article)\n",
    "            article_title = google_search_results[i]['title']\n",
    "            google__search_results = google_search_results[i]['desc']\n",
    "            google_link = google_search_results[i]['link']\n",
    "            # Append results to the search results data frame\n",
    "            search_results_df = search_results_df.append({'Date of Article': date_of_article, 'Title': article_title, \n",
    "                                                          'Articles': google__search_results, 'URL': google_link}, ignore_index=True)\n",
    "        else:\n",
    "            break\n",
    "    search_results_df = search_results_df.dropna()\n",
    "    return search_results_df"
   ]
  },
  {
   "cell_type": "code",
   "execution_count": 148,
   "id": "c03a33fd",
   "metadata": {},
   "outputs": [
    {
     "data": {
      "text/html": [
       "<div>\n",
       "<style scoped>\n",
       "    .dataframe tbody tr th:only-of-type {\n",
       "        vertical-align: middle;\n",
       "    }\n",
       "\n",
       "    .dataframe tbody tr th {\n",
       "        vertical-align: top;\n",
       "    }\n",
       "\n",
       "    .dataframe thead th {\n",
       "        text-align: right;\n",
       "    }\n",
       "</style>\n",
       "<table border=\"1\" class=\"dataframe\">\n",
       "  <thead>\n",
       "    <tr style=\"text-align: right;\">\n",
       "      <th></th>\n",
       "      <th>Date of Article</th>\n",
       "      <th>Title</th>\n",
       "      <th>Articles</th>\n",
       "      <th>URL</th>\n",
       "    </tr>\n",
       "  </thead>\n",
       "  <tbody>\n",
       "    <tr>\n",
       "      <th>0</th>\n",
       "      <td>2023-02-23 16:00:58.169503</td>\n",
       "      <td>Nvidia shares up 14% on earnings and bullish o...</td>\n",
       "      <td>More than a dozen analysts hiked their target ...</td>\n",
       "      <td>https://www.cnbc.com/2023/02/23/nvidia-stock-u...</td>\n",
       "    </tr>\n",
       "    <tr>\n",
       "      <th>1</th>\n",
       "      <td>2023-02-24 14:00:58.171504</td>\n",
       "      <td>Here's Why Nvidia Stock Surged Today</td>\n",
       "      <td>Nvidia's revenue declined by 21% year over yea...</td>\n",
       "      <td>https://www.fool.com/investing/2023/02/23/here...</td>\n",
       "    </tr>\n",
       "    <tr>\n",
       "      <th>2</th>\n",
       "      <td>2023-02-24 13:00:58.172503</td>\n",
       "      <td>Why did Nvidia stock jump up today? Strong Q4,...</td>\n",
       "      <td>Nvidia (NASDAQ:NVDA) shares soared more than 1...</td>\n",
       "      <td>https://seekingalpha.com/news/3940241-why-did-...</td>\n",
       "    </tr>\n",
       "    <tr>\n",
       "      <th>3</th>\n",
       "      <td>2022-09-01 00:00:00.000000</td>\n",
       "      <td>Nvidia Stock Drops as U.S. Restricts Sales of ...</td>\n",
       "      <td>Nvidia (NVDA 0.48%) stock declined 6.6% in Wed...</td>\n",
       "      <td>https://www.fool.com/investing/2022/09/01/nvid...</td>\n",
       "    </tr>\n",
       "    <tr>\n",
       "      <th>4</th>\n",
       "      <td>2022-09-01 00:00:00.000000</td>\n",
       "      <td>Tesla Stock Takes Hit From Nvidia's Warning Ab...</td>\n",
       "      <td>Still, concerns will remain for investors rega...</td>\n",
       "      <td>https://www.barrons.com/articles/tesla-nvidia-...</td>\n",
       "    </tr>\n",
       "    <tr>\n",
       "      <th>...</th>\n",
       "      <td>...</td>\n",
       "      <td>...</td>\n",
       "      <td>...</td>\n",
       "      <td>...</td>\n",
       "    </tr>\n",
       "    <tr>\n",
       "      <th>471</th>\n",
       "      <td>2021-07-30 00:00:00.000000</td>\n",
       "      <td>Nvidia Stock In 10 Years: What You Should Cons...</td>\n",
       "      <td>NVIDIA Corporation (NASDAQ:NVDA) is one of the...</td>\n",
       "      <td>https://seekingalpha.com/article/4442717-nvidi...</td>\n",
       "    </tr>\n",
       "    <tr>\n",
       "      <th>472</th>\n",
       "      <td>2022-09-02 00:00:00.000000</td>\n",
       "      <td>Cathie Wood Just Doubled Down on Nvidia (NVDA)...</td>\n",
       "      <td>As Nvidia (NASDAQ:NVDA) stock sank on Thursday...</td>\n",
       "      <td>https://investorplace.com/2022/09/cathie-wood-...</td>\n",
       "    </tr>\n",
       "    <tr>\n",
       "      <th>473</th>\n",
       "      <td>2021-08-17 00:00:00.000000</td>\n",
       "      <td>Nvidia Earnings: What to Look for from NVDA</td>\n",
       "      <td>(NVDA) sales have skyrocketed during the pande...</td>\n",
       "      <td>https://www.investopedia.com/nvidia-q2-fy2022-...</td>\n",
       "    </tr>\n",
       "    <tr>\n",
       "      <th>474</th>\n",
       "      <td>2016-11-11 00:00:00.000000</td>\n",
       "      <td>Nvidia Makes A Killing On Gaming (NASDAQ:NVDA)</td>\n",
       "      <td>Nvidia's (NASDAQ:NVDA) impressive Q3 revenue o...</td>\n",
       "      <td>https://seekingalpha.com/article/4022505-nvidi...</td>\n",
       "    </tr>\n",
       "    <tr>\n",
       "      <th>475</th>\n",
       "      <td>2023-01-24 16:01:41.240533</td>\n",
       "      <td>Nvidia Stock Forecast: KeyBanc names NVDA as o...</td>\n",
       "      <td>Nvidia (NVDA) was named one of KeyBanc Capital...</td>\n",
       "      <td>https://www.fxstreet.com/news/nvidia-stock-for...</td>\n",
       "    </tr>\n",
       "  </tbody>\n",
       "</table>\n",
       "<p>476 rows × 4 columns</p>\n",
       "</div>"
      ],
      "text/plain": [
       "               Date of Article  \\\n",
       "0   2023-02-23 16:00:58.169503   \n",
       "1   2023-02-24 14:00:58.171504   \n",
       "2   2023-02-24 13:00:58.172503   \n",
       "3   2022-09-01 00:00:00.000000   \n",
       "4   2022-09-01 00:00:00.000000   \n",
       "..                         ...   \n",
       "471 2021-07-30 00:00:00.000000   \n",
       "472 2022-09-02 00:00:00.000000   \n",
       "473 2021-08-17 00:00:00.000000   \n",
       "474 2016-11-11 00:00:00.000000   \n",
       "475 2023-01-24 16:01:41.240533   \n",
       "\n",
       "                                                 Title  \\\n",
       "0    Nvidia shares up 14% on earnings and bullish o...   \n",
       "1                 Here's Why Nvidia Stock Surged Today   \n",
       "2    Why did Nvidia stock jump up today? Strong Q4,...   \n",
       "3    Nvidia Stock Drops as U.S. Restricts Sales of ...   \n",
       "4    Tesla Stock Takes Hit From Nvidia's Warning Ab...   \n",
       "..                                                 ...   \n",
       "471  Nvidia Stock In 10 Years: What You Should Cons...   \n",
       "472  Cathie Wood Just Doubled Down on Nvidia (NVDA)...   \n",
       "473        Nvidia Earnings: What to Look for from NVDA   \n",
       "474     Nvidia Makes A Killing On Gaming (NASDAQ:NVDA)   \n",
       "475  Nvidia Stock Forecast: KeyBanc names NVDA as o...   \n",
       "\n",
       "                                              Articles  \\\n",
       "0    More than a dozen analysts hiked their target ...   \n",
       "1    Nvidia's revenue declined by 21% year over yea...   \n",
       "2    Nvidia (NASDAQ:NVDA) shares soared more than 1...   \n",
       "3    Nvidia (NVDA 0.48%) stock declined 6.6% in Wed...   \n",
       "4    Still, concerns will remain for investors rega...   \n",
       "..                                                 ...   \n",
       "471  NVIDIA Corporation (NASDAQ:NVDA) is one of the...   \n",
       "472  As Nvidia (NASDAQ:NVDA) stock sank on Thursday...   \n",
       "473  (NVDA) sales have skyrocketed during the pande...   \n",
       "474  Nvidia's (NASDAQ:NVDA) impressive Q3 revenue o...   \n",
       "475  Nvidia (NVDA) was named one of KeyBanc Capital...   \n",
       "\n",
       "                                                   URL  \n",
       "0    https://www.cnbc.com/2023/02/23/nvidia-stock-u...  \n",
       "1    https://www.fool.com/investing/2023/02/23/here...  \n",
       "2    https://seekingalpha.com/news/3940241-why-did-...  \n",
       "3    https://www.fool.com/investing/2022/09/01/nvid...  \n",
       "4    https://www.barrons.com/articles/tesla-nvidia-...  \n",
       "..                                                 ...  \n",
       "471  https://seekingalpha.com/article/4442717-nvidi...  \n",
       "472  https://investorplace.com/2022/09/cathie-wood-...  \n",
       "473  https://www.investopedia.com/nvidia-q2-fy2022-...  \n",
       "474  https://seekingalpha.com/article/4022505-nvidi...  \n",
       "475  https://www.fxstreet.com/news/nvidia-stock-for...  \n",
       "\n",
       "[476 rows x 4 columns]"
      ]
     },
     "execution_count": 148,
     "metadata": {},
     "output_type": "execute_result"
    }
   ],
   "source": [
    "# Dataframe containing all the google search results\n",
    "google_search_result_df = pd.DataFrame()\n",
    "\n",
    "for each in range(len(google_search_terms)):\n",
    "    keywords = (google_search_terms[each])\n",
    "    googlenews.search(keywords)\n",
    "    time.sleep(1) \n",
    "\n",
    "    google_results = googlenews.results()\n",
    "\n",
    "    # Only fetch the results on page 1\n",
    "    display_page_results = 10\n",
    "\n",
    "    for page in range(display_page_results):\n",
    "        googlenews.get_page(page)\n",
    "        results = newsfeed1(search_results_df, google_results)\n",
    "        \n",
    "    google_search_result_df = google_search_result_df.append(results)\n",
    "\n",
    "    # Clear the search\n",
    "    googlenews.clear()\n",
    "\n",
    "google_search_result_df\n",
    "\n",
    "shape = google_search_result_df.shape[0]\n",
    "\n",
    "# Resetting the data frame index \n",
    "google_search_result_df.index = np.arange(shape)\n",
    "google_search_result_df\n"
   ]
  },
  {
   "cell_type": "markdown",
   "id": "08db64ca",
   "metadata": {},
   "source": [
    "# Calculate a Sentiment Score"
   ]
  },
  {
   "cell_type": "code",
   "execution_count": 149,
   "id": "d91b491f",
   "metadata": {},
   "outputs": [],
   "source": [
    "# Initialize Sentiment Intensity Analyzer\n",
    "sentiment_analyzer = SentimentIntensityAnalyzer()  "
   ]
  },
  {
   "cell_type": "code",
   "execution_count": 150,
   "id": "883caf5a",
   "metadata": {},
   "outputs": [
    {
     "data": {
      "text/html": [
       "<div>\n",
       "<style scoped>\n",
       "    .dataframe tbody tr th:only-of-type {\n",
       "        vertical-align: middle;\n",
       "    }\n",
       "\n",
       "    .dataframe tbody tr th {\n",
       "        vertical-align: top;\n",
       "    }\n",
       "\n",
       "    .dataframe thead th {\n",
       "        text-align: right;\n",
       "    }\n",
       "</style>\n",
       "<table border=\"1\" class=\"dataframe\">\n",
       "  <thead>\n",
       "    <tr style=\"text-align: right;\">\n",
       "      <th></th>\n",
       "      <th>Date of Article</th>\n",
       "      <th>Title</th>\n",
       "      <th>Articles</th>\n",
       "      <th>URL</th>\n",
       "      <th>Sentiment Score</th>\n",
       "    </tr>\n",
       "  </thead>\n",
       "  <tbody>\n",
       "    <tr>\n",
       "      <th>0</th>\n",
       "      <td>2023-02-23 16:00:58.169503</td>\n",
       "      <td>Nvidia shares up 14% on earnings and bullish o...</td>\n",
       "      <td>More than a dozen analysts hiked their target ...</td>\n",
       "      <td>https://www.cnbc.com/2023/02/23/nvidia-stock-u...</td>\n",
       "      <td>0.5574</td>\n",
       "    </tr>\n",
       "    <tr>\n",
       "      <th>1</th>\n",
       "      <td>2023-02-24 14:00:58.171504</td>\n",
       "      <td>Here's Why Nvidia Stock Surged Today</td>\n",
       "      <td>Nvidia's revenue declined by 21% year over yea...</td>\n",
       "      <td>https://www.fool.com/investing/2023/02/23/here...</td>\n",
       "      <td>0.0000</td>\n",
       "    </tr>\n",
       "    <tr>\n",
       "      <th>2</th>\n",
       "      <td>2023-02-24 13:00:58.172503</td>\n",
       "      <td>Why did Nvidia stock jump up today? Strong Q4,...</td>\n",
       "      <td>Nvidia (NASDAQ:NVDA) shares soared more than 1...</td>\n",
       "      <td>https://seekingalpha.com/news/3940241-why-did-...</td>\n",
       "      <td>0.2960</td>\n",
       "    </tr>\n",
       "    <tr>\n",
       "      <th>3</th>\n",
       "      <td>2022-09-01 00:00:00.000000</td>\n",
       "      <td>Nvidia Stock Drops as U.S. Restricts Sales of ...</td>\n",
       "      <td>Nvidia (NVDA 0.48%) stock declined 6.6% in Wed...</td>\n",
       "      <td>https://www.fool.com/investing/2022/09/01/nvid...</td>\n",
       "      <td>0.0000</td>\n",
       "    </tr>\n",
       "    <tr>\n",
       "      <th>4</th>\n",
       "      <td>2022-09-01 00:00:00.000000</td>\n",
       "      <td>Tesla Stock Takes Hit From Nvidia's Warning Ab...</td>\n",
       "      <td>Still, concerns will remain for investors rega...</td>\n",
       "      <td>https://www.barrons.com/articles/tesla-nvidia-...</td>\n",
       "      <td>0.0000</td>\n",
       "    </tr>\n",
       "  </tbody>\n",
       "</table>\n",
       "</div>"
      ],
      "text/plain": [
       "             Date of Article  \\\n",
       "0 2023-02-23 16:00:58.169503   \n",
       "1 2023-02-24 14:00:58.171504   \n",
       "2 2023-02-24 13:00:58.172503   \n",
       "3 2022-09-01 00:00:00.000000   \n",
       "4 2022-09-01 00:00:00.000000   \n",
       "\n",
       "                                               Title  \\\n",
       "0  Nvidia shares up 14% on earnings and bullish o...   \n",
       "1               Here's Why Nvidia Stock Surged Today   \n",
       "2  Why did Nvidia stock jump up today? Strong Q4,...   \n",
       "3  Nvidia Stock Drops as U.S. Restricts Sales of ...   \n",
       "4  Tesla Stock Takes Hit From Nvidia's Warning Ab...   \n",
       "\n",
       "                                            Articles  \\\n",
       "0  More than a dozen analysts hiked their target ...   \n",
       "1  Nvidia's revenue declined by 21% year over yea...   \n",
       "2  Nvidia (NASDAQ:NVDA) shares soared more than 1...   \n",
       "3  Nvidia (NVDA 0.48%) stock declined 6.6% in Wed...   \n",
       "4  Still, concerns will remain for investors rega...   \n",
       "\n",
       "                                                 URL  Sentiment Score  \n",
       "0  https://www.cnbc.com/2023/02/23/nvidia-stock-u...           0.5574  \n",
       "1  https://www.fool.com/investing/2023/02/23/here...           0.0000  \n",
       "2  https://seekingalpha.com/news/3940241-why-did-...           0.2960  \n",
       "3  https://www.fool.com/investing/2022/09/01/nvid...           0.0000  \n",
       "4  https://www.barrons.com/articles/tesla-nvidia-...           0.0000  "
      ]
     },
     "execution_count": 150,
     "metadata": {},
     "output_type": "execute_result"
    }
   ],
   "source": [
    "google_search_result_df[\"Sentiment Score\"] = google_search_result_df[\"Articles\"].apply(lambda t: sentiment_analyzer.polarity_scores(t)['compound'])\n",
    "google_search_result_df.head()"
   ]
  },
  {
   "cell_type": "markdown",
   "id": "b5bdd9c9",
   "metadata": {},
   "source": [
    "## Insert all news articles to Excel (Reference of Articles)"
   ]
  },
  {
   "cell_type": "code",
   "execution_count": 151,
   "id": "ee480618",
   "metadata": {},
   "outputs": [],
   "source": [
    "google_search_result_df.to_excel(r\"C:\\Project\\All Nvidia News Articles.xlsx\")"
   ]
  },
  {
   "cell_type": "markdown",
   "id": "ef38baf8",
   "metadata": {},
   "source": [
    "### Convert to dates, aggregate sentiment scores and check data frame"
   ]
  },
  {
   "cell_type": "code",
   "execution_count": 152,
   "id": "c02e7a6a",
   "metadata": {},
   "outputs": [
    {
     "data": {
      "text/html": [
       "<div>\n",
       "<style scoped>\n",
       "    .dataframe tbody tr th:only-of-type {\n",
       "        vertical-align: middle;\n",
       "    }\n",
       "\n",
       "    .dataframe tbody tr th {\n",
       "        vertical-align: top;\n",
       "    }\n",
       "\n",
       "    .dataframe thead th {\n",
       "        text-align: right;\n",
       "    }\n",
       "</style>\n",
       "<table border=\"1\" class=\"dataframe\">\n",
       "  <thead>\n",
       "    <tr style=\"text-align: right;\">\n",
       "      <th></th>\n",
       "      <th>Dates</th>\n",
       "      <th>Sentiment Score</th>\n",
       "    </tr>\n",
       "  </thead>\n",
       "  <tbody>\n",
       "    <tr>\n",
       "      <th>0</th>\n",
       "      <td>2014-09-18</td>\n",
       "      <td>0.1027</td>\n",
       "    </tr>\n",
       "    <tr>\n",
       "      <th>1</th>\n",
       "      <td>2015-05-31</td>\n",
       "      <td>0.0000</td>\n",
       "    </tr>\n",
       "    <tr>\n",
       "      <th>2</th>\n",
       "      <td>2016-09-13</td>\n",
       "      <td>0.7512</td>\n",
       "    </tr>\n",
       "    <tr>\n",
       "      <th>3</th>\n",
       "      <td>2016-11-11</td>\n",
       "      <td>0.7096</td>\n",
       "    </tr>\n",
       "    <tr>\n",
       "      <th>4</th>\n",
       "      <td>2016-12-28</td>\n",
       "      <td>0.0000</td>\n",
       "    </tr>\n",
       "  </tbody>\n",
       "</table>\n",
       "</div>"
      ],
      "text/plain": [
       "        Dates  Sentiment Score\n",
       "0  2014-09-18           0.1027\n",
       "1  2015-05-31           0.0000\n",
       "2  2016-09-13           0.7512\n",
       "3  2016-11-11           0.7096\n",
       "4  2016-12-28           0.0000"
      ]
     },
     "execution_count": 152,
     "metadata": {},
     "output_type": "execute_result"
    }
   ],
   "source": [
    "google_search_result_df[\"Date of Article\"] = pd.to_datetime(google_search_result_df[\"Date of Article\"]).dt.date\n",
    "\n",
    "#google_search_result_df[\"Date of Article\"] = pd.to_datetime(google_search_result_df[\"Date of Article\"]).dt.date\n",
    "\n",
    "#Aggregate sentiment scores and calculate the mean\n",
    "google_search_result_df = google_search_result_df.groupby(\n",
    "   \"Date of Article\")[\"Sentiment Score\"].agg('mean').to_frame(\"Sentiment Score\")\n",
    "\n",
    "google_search_result_df = google_search_result_df.reset_index(level=0)\n",
    "google_search_result_df.rename(columns = {'Date of Article':'Dates'}, inplace = True)\n",
    "\n",
    "google_search_result_df.head()\n"
   ]
  },
  {
   "cell_type": "markdown",
   "id": "2ba130be",
   "metadata": {},
   "source": [
    "### Output data to excel"
   ]
  },
  {
   "cell_type": "code",
   "execution_count": 153,
   "id": "f14a2594",
   "metadata": {},
   "outputs": [],
   "source": [
    "# Output Data Frame to Excel\n",
    "google_search_result_df.to_excel(r\"C:\\Nvidia.xlsx\")\n"
   ]
  },
  {
   "cell_type": "markdown",
   "id": "2c9cdcfb",
   "metadata": {},
   "source": [
    "### Plot Daily Sentiment Scores"
   ]
  },
  {
   "cell_type": "code",
   "execution_count": 154,
   "id": "689c991e",
   "metadata": {},
   "outputs": [
    {
     "data": {
      "image/png": "[encoded data removed]",
      "text/plain": [
       "<Figure size 720x504 with 1 Axes>"
      ]
     },
     "metadata": {
      "needs_background": "light"
     },
     "output_type": "display_data"
    }
   ],
   "source": [
    "import matplotlib.pyplot as plt\n",
    "plt.figure(figsize=(10, 7))\n",
    "plt.plot(google_search_result_df[\"Sentiment Score\"])\n",
    "plt.title('Daily Sentiment Score', fontsize=16)\n",
    "plt.xlabel('Dates', fontsize=14)\n",
    "plt.ylabel('Sentiment Score', fontsize=14)\n",
    "plt.show()"
   ]
  },
  {
   "cell_type": "markdown",
   "id": "69618985",
   "metadata": {},
   "source": [
    "#### Read the daily 'NVDA' stock prices which were downloaded using R"
   ]
  },
  {
   "cell_type": "code",
   "execution_count": 155,
   "id": "2e8b4cba",
   "metadata": {},
   "outputs": [
    {
     "data": {
      "text/html": [
       "<div>\n",
       "<style scoped>\n",
       "    .dataframe tbody tr th:only-of-type {\n",
       "        vertical-align: middle;\n",
       "    }\n",
       "\n",
       "    .dataframe tbody tr th {\n",
       "        vertical-align: top;\n",
       "    }\n",
       "\n",
       "    .dataframe thead th {\n",
       "        text-align: right;\n",
       "    }\n",
       "</style>\n",
       "<table border=\"1\" class=\"dataframe\">\n",
       "  <thead>\n",
       "    <tr style=\"text-align: right;\">\n",
       "      <th></th>\n",
       "      <th>Dates</th>\n",
       "      <th>Close</th>\n",
       "    </tr>\n",
       "  </thead>\n",
       "  <tbody>\n",
       "    <tr>\n",
       "      <th>0</th>\n",
       "      <td>2013-02-13</td>\n",
       "      <td>2.856458</td>\n",
       "    </tr>\n",
       "    <tr>\n",
       "      <th>1</th>\n",
       "      <td>2013-02-14</td>\n",
       "      <td>2.939590</td>\n",
       "    </tr>\n",
       "    <tr>\n",
       "      <th>2</th>\n",
       "      <td>2013-02-15</td>\n",
       "      <td>2.939590</td>\n",
       "    </tr>\n",
       "    <tr>\n",
       "      <th>3</th>\n",
       "      <td>2013-02-19</td>\n",
       "      <td>2.900333</td>\n",
       "    </tr>\n",
       "    <tr>\n",
       "      <th>4</th>\n",
       "      <td>2013-02-20</td>\n",
       "      <td>2.858768</td>\n",
       "    </tr>\n",
       "  </tbody>\n",
       "</table>\n",
       "</div>"
      ],
      "text/plain": [
       "        Dates     Close\n",
       "0  2013-02-13  2.856458\n",
       "1  2013-02-14  2.939590\n",
       "2  2013-02-15  2.939590\n",
       "3  2013-02-19  2.900333\n",
       "4  2013-02-20  2.858768"
      ]
     },
     "execution_count": 155,
     "metadata": {},
     "output_type": "execute_result"
    }
   ],
   "source": [
    "stock_data = pd.read_excel(\n",
    "    r\"C:\\Project\\Stock Data.xlsx\")\n",
    "\n",
    "\n",
    "stock_data[\"Dates\"] = pd.to_datetime(stock_data[\"Dates\"]).dt.date\n",
    "\n",
    "stock_data.rename(columns = {'NVDA.Adjusted':'Close'}, inplace = True)\n",
    "stock_data.head()\n"
   ]
  },
  {
   "cell_type": "code",
   "execution_count": 156,
   "id": "d06b3568",
   "metadata": {},
   "outputs": [
    {
     "data": {
      "text/html": [
       "<div>\n",
       "<style scoped>\n",
       "    .dataframe tbody tr th:only-of-type {\n",
       "        vertical-align: middle;\n",
       "    }\n",
       "\n",
       "    .dataframe tbody tr th {\n",
       "        vertical-align: top;\n",
       "    }\n",
       "\n",
       "    .dataframe thead th {\n",
       "        text-align: right;\n",
       "    }\n",
       "</style>\n",
       "<table border=\"1\" class=\"dataframe\">\n",
       "  <thead>\n",
       "    <tr style=\"text-align: right;\">\n",
       "      <th></th>\n",
       "      <th>Dates</th>\n",
       "      <th>Close</th>\n",
       "    </tr>\n",
       "  </thead>\n",
       "  <tbody>\n",
       "    <tr>\n",
       "      <th>0</th>\n",
       "      <td>2013-02-13</td>\n",
       "      <td>2.856458</td>\n",
       "    </tr>\n",
       "    <tr>\n",
       "      <th>1</th>\n",
       "      <td>2013-02-14</td>\n",
       "      <td>2.939590</td>\n",
       "    </tr>\n",
       "    <tr>\n",
       "      <th>2</th>\n",
       "      <td>2013-02-15</td>\n",
       "      <td>2.939590</td>\n",
       "    </tr>\n",
       "    <tr>\n",
       "      <th>3</th>\n",
       "      <td>2013-02-19</td>\n",
       "      <td>2.900333</td>\n",
       "    </tr>\n",
       "    <tr>\n",
       "      <th>4</th>\n",
       "      <td>2013-02-20</td>\n",
       "      <td>2.858768</td>\n",
       "    </tr>\n",
       "  </tbody>\n",
       "</table>\n",
       "</div>"
      ],
      "text/plain": [
       "        Dates     Close\n",
       "0  2013-02-13  2.856458\n",
       "1  2013-02-14  2.939590\n",
       "2  2013-02-15  2.939590\n",
       "3  2013-02-19  2.900333\n",
       "4  2013-02-20  2.858768"
      ]
     },
     "execution_count": 156,
     "metadata": {},
     "output_type": "execute_result"
    }
   ],
   "source": [
    "stock_data.head()"
   ]
  },
  {
   "cell_type": "code",
   "execution_count": 157,
   "id": "57632481",
   "metadata": {},
   "outputs": [
    {
     "data": {
      "text/html": [
       "<div>\n",
       "<style scoped>\n",
       "    .dataframe tbody tr th:only-of-type {\n",
       "        vertical-align: middle;\n",
       "    }\n",
       "\n",
       "    .dataframe tbody tr th {\n",
       "        vertical-align: top;\n",
       "    }\n",
       "\n",
       "    .dataframe thead th {\n",
       "        text-align: right;\n",
       "    }\n",
       "</style>\n",
       "<table border=\"1\" class=\"dataframe\">\n",
       "  <thead>\n",
       "    <tr style=\"text-align: right;\">\n",
       "      <th></th>\n",
       "      <th>Dates</th>\n",
       "      <th>Sentiment Score</th>\n",
       "    </tr>\n",
       "  </thead>\n",
       "  <tbody>\n",
       "    <tr>\n",
       "      <th>181</th>\n",
       "      <td>2023-02-20</td>\n",
       "      <td>0.109600</td>\n",
       "    </tr>\n",
       "    <tr>\n",
       "      <th>182</th>\n",
       "      <td>2023-02-21</td>\n",
       "      <td>0.128380</td>\n",
       "    </tr>\n",
       "    <tr>\n",
       "      <th>183</th>\n",
       "      <td>2023-02-22</td>\n",
       "      <td>0.336183</td>\n",
       "    </tr>\n",
       "    <tr>\n",
       "      <th>184</th>\n",
       "      <td>2023-02-23</td>\n",
       "      <td>0.206352</td>\n",
       "    </tr>\n",
       "    <tr>\n",
       "      <th>185</th>\n",
       "      <td>2023-02-24</td>\n",
       "      <td>0.217300</td>\n",
       "    </tr>\n",
       "  </tbody>\n",
       "</table>\n",
       "</div>"
      ],
      "text/plain": [
       "          Dates  Sentiment Score\n",
       "181  2023-02-20         0.109600\n",
       "182  2023-02-21         0.128380\n",
       "183  2023-02-22         0.336183\n",
       "184  2023-02-23         0.206352\n",
       "185  2023-02-24         0.217300"
      ]
     },
     "execution_count": 157,
     "metadata": {},
     "output_type": "execute_result"
    }
   ],
   "source": [
    "nvda_news_df = pd.read_excel(\n",
    "    r\"C:\\Project\\Nvidia.xlsx\")\n",
    "\n",
    "nvda_news_df[\"Dates\"] = pd.to_datetime(nvda_news_df[\"Dates\"]).dt.date\n",
    "\n",
    "nvda_news_df.drop(nvda_news_df.columns[[0]], axis=1, inplace=True)\n",
    "nvda_news_df.tail()"
   ]
  },
  {
   "cell_type": "markdown",
   "id": "a81f4936",
   "metadata": {},
   "source": [
    "## Plot the Aggregated Mean Sentiment Score"
   ]
  },
  {
   "cell_type": "code",
   "execution_count": 158,
   "id": "cda7e647",
   "metadata": {},
   "outputs": [
    {
     "data": {
      "image/png": "[encoded data removed]",
      "text/plain": [
       "<Figure size 720x504 with 1 Axes>"
      ]
     },
     "metadata": {
      "needs_background": "light"
     },
     "output_type": "display_data"
    }
   ],
   "source": [
    "import matplotlib.pyplot as plt\n",
    "plt.figure(figsize=(10, 7))\n",
    "plt.plot(nvda_news_df[\"Sentiment Score\"])\n",
    "plt.title('Agregated Daily Sentiment Score', fontsize=16)\n",
    "plt.xlabel('Date', fontsize=14)\n",
    "plt.ylabel('Sentiment Score', fontsize=14)\n",
    "plt.show()"
   ]
  },
  {
   "cell_type": "markdown",
   "id": "805e27e8",
   "metadata": {},
   "source": [
    "## Merge Stock Data and Sentiment Scores\n"
   ]
  },
  {
   "cell_type": "code",
   "execution_count": 159,
   "id": "3abe5196",
   "metadata": {},
   "outputs": [],
   "source": [
    "nvda_news_df = stock_data.merge(nvda_news_df,how='left', left_on='Dates', right_on='Dates')\n",
    "\n",
    "# Replace blanks and nan with 0\n",
    "nvda_news_df.fillna(0, inplace=True)\n",
    "nvda_news_df\n",
    "\n",
    "nvda_news_df.to_excel(r\"C:\\Project\\Merged Data.xlsx\")\n"
   ]
  },
  {
   "cell_type": "code",
   "execution_count": 160,
   "id": "6d62294a",
   "metadata": {},
   "outputs": [
    {
     "data": {
      "text/html": [
       "<div>\n",
       "<style scoped>\n",
       "    .dataframe tbody tr th:only-of-type {\n",
       "        vertical-align: middle;\n",
       "    }\n",
       "\n",
       "    .dataframe tbody tr th {\n",
       "        vertical-align: top;\n",
       "    }\n",
       "\n",
       "    .dataframe thead th {\n",
       "        text-align: right;\n",
       "    }\n",
       "</style>\n",
       "<table border=\"1\" class=\"dataframe\">\n",
       "  <thead>\n",
       "    <tr style=\"text-align: right;\">\n",
       "      <th></th>\n",
       "      <th>Dates</th>\n",
       "      <th>Close</th>\n",
       "      <th>Sentiment Score</th>\n",
       "      <th>Trade Signal</th>\n",
       "    </tr>\n",
       "  </thead>\n",
       "  <tbody>\n",
       "    <tr>\n",
       "      <th>2519</th>\n",
       "      <td>2023-02-15</td>\n",
       "      <td>227.639999</td>\n",
       "      <td>0.000000</td>\n",
       "      <td>0</td>\n",
       "    </tr>\n",
       "    <tr>\n",
       "      <th>2520</th>\n",
       "      <td>2023-02-16</td>\n",
       "      <td>220.020004</td>\n",
       "      <td>0.000000</td>\n",
       "      <td>0</td>\n",
       "    </tr>\n",
       "    <tr>\n",
       "      <th>2521</th>\n",
       "      <td>2023-02-17</td>\n",
       "      <td>213.880005</td>\n",
       "      <td>0.208183</td>\n",
       "      <td>0</td>\n",
       "    </tr>\n",
       "    <tr>\n",
       "      <th>2522</th>\n",
       "      <td>2023-02-21</td>\n",
       "      <td>206.550003</td>\n",
       "      <td>0.128380</td>\n",
       "      <td>0</td>\n",
       "    </tr>\n",
       "    <tr>\n",
       "      <th>2523</th>\n",
       "      <td>2023-02-22</td>\n",
       "      <td>207.539993</td>\n",
       "      <td>0.336183</td>\n",
       "      <td>0</td>\n",
       "    </tr>\n",
       "  </tbody>\n",
       "</table>\n",
       "</div>"
      ],
      "text/plain": [
       "           Dates       Close  Sentiment Score  Trade Signal\n",
       "2519  2023-02-15  227.639999         0.000000             0\n",
       "2520  2023-02-16  220.020004         0.000000             0\n",
       "2521  2023-02-17  213.880005         0.208183             0\n",
       "2522  2023-02-21  206.550003         0.128380             0\n",
       "2523  2023-02-22  207.539993         0.336183             0"
      ]
     },
     "execution_count": 160,
     "metadata": {},
     "output_type": "execute_result"
    }
   ],
   "source": [
    "# Create a signal column which would hold the buy/sell signals\n",
    "nvda_news_df[\"Trade Signal\"] = 0\n",
    "\n",
    "# Generate a buy signal whenever the sentiment score is above a threshold\n",
    "nvda_news_df.loc[nvda_news_df[\"Sentiment Score\"] >= 0.65, \"Trade Signal\"] = 1\n",
    "\n",
    "# Generate a sell signal whenever the sentiment score is below a threshold\n",
    "nvda_news_df.loc[nvda_news_df[\"Sentiment Score\"]  <= -0.65, \"Trade Signal\"] = -1\n",
    "\n",
    "nvda_news_df.tail(5)"
   ]
  },
  {
   "cell_type": "markdown",
   "id": "42cb68c9",
   "metadata": {},
   "source": [
    "### Calculate the daily returns based on sentiment score thresholds"
   ]
  },
  {
   "cell_type": "code",
   "execution_count": 161,
   "id": "8c846b3d",
   "metadata": {},
   "outputs": [
    {
     "data": {
      "text/html": [
       "<div>\n",
       "<style scoped>\n",
       "    .dataframe tbody tr th:only-of-type {\n",
       "        vertical-align: middle;\n",
       "    }\n",
       "\n",
       "    .dataframe tbody tr th {\n",
       "        vertical-align: top;\n",
       "    }\n",
       "\n",
       "    .dataframe thead th {\n",
       "        text-align: right;\n",
       "    }\n",
       "</style>\n",
       "<table border=\"1\" class=\"dataframe\">\n",
       "  <thead>\n",
       "    <tr style=\"text-align: right;\">\n",
       "      <th></th>\n",
       "      <th>Dates</th>\n",
       "      <th>Close</th>\n",
       "      <th>Sentiment Score</th>\n",
       "      <th>Trade Signal</th>\n",
       "      <th>Returns</th>\n",
       "      <th>Strategy Returns</th>\n",
       "    </tr>\n",
       "  </thead>\n",
       "  <tbody>\n",
       "    <tr>\n",
       "      <th>1</th>\n",
       "      <td>2013-02-14</td>\n",
       "      <td>2.939590</td>\n",
       "      <td>0.0</td>\n",
       "      <td>0</td>\n",
       "      <td>0.029103</td>\n",
       "      <td>0.0</td>\n",
       "    </tr>\n",
       "    <tr>\n",
       "      <th>2</th>\n",
       "      <td>2013-02-15</td>\n",
       "      <td>2.939590</td>\n",
       "      <td>0.0</td>\n",
       "      <td>0</td>\n",
       "      <td>0.000000</td>\n",
       "      <td>0.0</td>\n",
       "    </tr>\n",
       "    <tr>\n",
       "      <th>3</th>\n",
       "      <td>2013-02-19</td>\n",
       "      <td>2.900333</td>\n",
       "      <td>0.0</td>\n",
       "      <td>0</td>\n",
       "      <td>-0.013355</td>\n",
       "      <td>-0.0</td>\n",
       "    </tr>\n",
       "    <tr>\n",
       "      <th>4</th>\n",
       "      <td>2013-02-20</td>\n",
       "      <td>2.858768</td>\n",
       "      <td>0.0</td>\n",
       "      <td>0</td>\n",
       "      <td>-0.014331</td>\n",
       "      <td>-0.0</td>\n",
       "    </tr>\n",
       "    <tr>\n",
       "      <th>5</th>\n",
       "      <td>2013-02-21</td>\n",
       "      <td>2.837986</td>\n",
       "      <td>0.0</td>\n",
       "      <td>0</td>\n",
       "      <td>-0.007270</td>\n",
       "      <td>-0.0</td>\n",
       "    </tr>\n",
       "  </tbody>\n",
       "</table>\n",
       "</div>"
      ],
      "text/plain": [
       "        Dates     Close  Sentiment Score  Trade Signal   Returns  \\\n",
       "1  2013-02-14  2.939590              0.0             0  0.029103   \n",
       "2  2013-02-15  2.939590              0.0             0  0.000000   \n",
       "3  2013-02-19  2.900333              0.0             0 -0.013355   \n",
       "4  2013-02-20  2.858768              0.0             0 -0.014331   \n",
       "5  2013-02-21  2.837986              0.0             0 -0.007270   \n",
       "\n",
       "   Strategy Returns  \n",
       "1               0.0  \n",
       "2               0.0  \n",
       "3              -0.0  \n",
       "4              -0.0  \n",
       "5              -0.0  "
      ]
     },
     "execution_count": 161,
     "metadata": {},
     "output_type": "execute_result"
    }
   ],
   "source": [
    "# Calculate the returns\n",
    "nvda_news_df[\"Returns\"] = nvda_news_df['Close'].pct_change()\n",
    "\n",
    "# Calculate returns from buying and selling sentiment scores\n",
    "nvda_news_df[\"Strategy Returns\"] = nvda_news_df[\"Trade Signal\"].shift(1) * nvda_news_df[\"Returns\"]\n",
    "nvda_news_df = nvda_news_df.dropna()\n",
    "nvda_news_df.head(5)"
   ]
  },
  {
   "cell_type": "code",
   "execution_count": 162,
   "id": "56c33a5c",
   "metadata": {},
   "outputs": [
    {
     "data": {
      "image/png": "[encoded data removed]",
      "text/plain": [
       "<Figure size 720x432 with 1 Axes>"
      ]
     },
     "metadata": {
      "needs_background": "light"
     },
     "output_type": "display_data"
    }
   ],
   "source": [
    "# Import matplotlib\n",
    "import matplotlib.pyplot as plt\n",
    "%matplotlib inline\n",
    "\n",
    "# Plot the strategy returns\n",
    "(nvda_news_df[\"Strategy Returns\"]+1).cumprod().plot(figsize=(10, 6))\n",
    "\n",
    "# Label the graph\n",
    "plt.title(\"Strategy Returns\")\n",
    "plt.grid()\n",
    "plt.xlabel(\"Dates\")\n",
    "plt.ylabel(\"Percentage Returns\")\n",
    "plt.show()"
   ]
  },
  {
   "cell_type": "code",
   "execution_count": null,
   "id": "9b5cb5f2",
   "metadata": {},
   "outputs": [],
   "source": []
  }
 ],
 "metadata": {
  "kernelspec": {
   "display_name": "Python 3 (ipykernel)",
   "language": "python",
   "name": "python3"
  },
  "language_info": {
   "codemirror_mode": {
    "name": "ipython",
    "version": 3
   },
   "file_extension": ".py",
   "mimetype": "text/x-python",
   "name": "python",
   "nbconvert_exporter": "python",
   "pygments_lexer": "ipython3",
   "version": "3.9.13"
  }
 },
 "nbformat": 4,
 "nbformat_minor": 5
}
